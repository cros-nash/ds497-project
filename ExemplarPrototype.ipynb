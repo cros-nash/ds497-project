{
 "cells": [
  {
   "cell_type": "code",
   "execution_count": 1,
   "id": "18142c5a",
   "metadata": {},
   "outputs": [],
   "source": [
    "import numpy as np\n",
    "import pandas as pd\n",
    "from sklearn.model_selection import train_test_split\n",
    "from sklearn.metrics import accuracy_score\n",
    "from sklearn.linear_model import RidgeClassifier\n",
    "from sklearn.ensemble import GradientBoostingClassifier\n",
    "from sklearn.neighbors import KNeighborsClassifier\n",
    "from sklearn.ensemble import AdaBoostClassifier\n",
    "from sklearn.svm import SVC\n",
    "from sklearn.ensemble import BaggingClassifier"
   ]
  },
  {
   "cell_type": "markdown",
   "id": "ede7403a",
   "metadata": {},
   "source": [
    "## Prototype Model"
   ]
  },
  {
   "cell_type": "markdown",
   "id": "69e8f4d4",
   "metadata": {},
   "source": [
    "Generate the prototypes"
   ]
  },
  {
   "cell_type": "code",
   "execution_count": 2,
   "id": "b0876cf0",
   "metadata": {},
   "outputs": [],
   "source": [
    "def gen_prototypes(X_train, y_train):\n",
    "    ai_proto = np.mean(X_train[y_train == 'ai'], axis=0)\n",
    "    real_proto = np.mean(X_train[y_train == 'real'], axis=0)\n",
    "    return ai_proto, real_proto"
   ]
  },
  {
   "cell_type": "markdown",
   "id": "cf0eb42a",
   "metadata": {},
   "source": [
    "Categorize each exemplar in the training set by distance to prototype"
   ]
  },
  {
   "cell_type": "code",
   "execution_count": 3,
   "id": "aee13e7e",
   "metadata": {},
   "outputs": [],
   "source": [
    "def prototype_predict(ai_proto, real_proto, stims):\n",
    "    predictions = []\n",
    "\n",
    "    for stim in stims:\n",
    "        dist_ai = -np.linalg.norm(stim - ai_proto)\n",
    "        dist_real = -np.linalg.norm(stim - real_proto)\n",
    "        if dist_ai > dist_real:\n",
    "            predictions.append('ai')\n",
    "        else:\n",
    "            predictions.append('real')\n",
    "    \n",
    "    return np.array(predictions)"
   ]
  },
  {
   "cell_type": "markdown",
   "id": "9dd922d3",
   "metadata": {},
   "source": [
    "## Exemplar Model"
   ]
  },
  {
   "cell_type": "markdown",
   "id": "74eb42c2",
   "metadata": {},
   "source": [
    "Generate lists of exemplars"
   ]
  },
  {
   "cell_type": "code",
   "execution_count": 4,
   "id": "900a42c0",
   "metadata": {},
   "outputs": [],
   "source": [
    "def gen_exemplars(X_train, y_train):\n",
    "    exemplars = {\n",
    "        'ai': X_train[y_train == 'ai'],\n",
    "        'real': X_train[y_train == 'real']\n",
    "    }\n",
    "    return exemplars"
   ]
  },
  {
   "cell_type": "markdown",
   "id": "00dbd195",
   "metadata": {},
   "source": [
    "Categorize each exemplar based on highest similarity score to each category"
   ]
  },
  {
   "cell_type": "code",
   "execution_count": 5,
   "id": "b445a77d",
   "metadata": {},
   "outputs": [],
   "source": [
    "def exemplar_predict(stims, exemplars):\n",
    "    predictions = []\n",
    "    for stimulus in stims:\n",
    "        dist_ai = np.linalg.norm(exemplars['ai'] - stimulus, axis=1)\n",
    "        ai_similar = np.sum(np.exp(-dist_ai))\n",
    "\n",
    "        dist_real = np.linalg.norm(exemplars['real'] - stimulus, axis=1)\n",
    "        real_similar = np.sum(np.exp(-dist_real))\n",
    "        \n",
    "        if ai_similar > real_similar:\n",
    "            predictions.append('ai')\n",
    "        else:\n",
    "            predictions.append('real')\n",
    "            \n",
    "    return np.array(predictions)"
   ]
  },
  {
   "cell_type": "markdown",
   "id": "ae6ed46a",
   "metadata": {},
   "source": [
    "### Results (with ML)"
   ]
  },
  {
   "cell_type": "code",
   "execution_count": 6,
   "id": "0da5bfe9",
   "metadata": {},
   "outputs": [
    {
     "data": {
      "image/png": "[encoded data removed]",
      "text/plain": [
       "<Figure size 800x600 with 1 Axes>"
      ]
     },
     "metadata": {},
     "output_type": "display_data"
    }
   ],
   "source": [
    "import matplotlib.pyplot as plt\n",
    "\n",
    "df_resp = pd.read_csv(\"./DATA AND R CODE/eachresponse.csv\")\n",
    "df_resp = df_resp.dropna(how='any')\n",
    "\n",
    "df = pd.read_pickle('df_pca_2')  \n",
    "df[\"image\"] = df[\"image\"].str.extract(r'\\((\\d+)\\)', expand=False)\n",
    "df[\"image\"] = df[\"image\"].astype(int)\n",
    "\n",
    "df_merged = pd.merge(df_resp, df, on=\"image\", how=\"inner\")\n",
    "pca_columns = [i for i in range(0, 2)]\n",
    "\n",
    "confidence = 0\n",
    "df_merged = df_merged[df_merged[\"confidence\"] >= confidence]\n",
    "\n",
    "X = df_merged[pca_columns].values\n",
    "y = df_merged[\"choice\"].values\n",
    "\n",
    "fig = plt.figure(figsize=(8, 6))\n",
    "real = df_merged[df_merged['label'] == 'real']\n",
    "fake = df_merged[df_merged['label'] == 'fake']\n",
    "\n",
    "pla = plt.scatter(real[0], real[1], color='red')\n",
    "plb = plt.scatter(fake[0], fake[1], color='blue')\n",
    "\n",
    "plt.legend([pla, plb], [\"real\", \"fake\"])\n",
    "\n",
    "plt.show()"
   ]
  },
  {
   "cell_type": "code",
   "execution_count": 7,
   "id": "50a3631c",
   "metadata": {},
   "outputs": [
    {
     "name": "stdout",
     "output_type": "stream",
     "text": [
      "   dims  prototype_acc  exemplar_acc  ml_ridge_acc  ml_gradientBoost_acc  \\\n",
      "0     1       0.546684      0.566645      0.564713              0.664520   \n",
      "1     2       0.553123      0.566645      0.561494              0.661301   \n",
      "2     3       0.553123      0.566645      0.564713              0.667740   \n",
      "3     4       0.556343      0.566645      0.576948              0.661301   \n",
      "4     5       0.556343      0.566645      0.577592              0.667740   \n",
      "5    10       0.551835      0.566645      0.587894              0.661301   \n",
      "6    20       0.602704      0.566645      0.623954              0.667740   \n",
      "7    30       0.604636      0.566645      0.628461              0.656149   \n",
      "8    50       0.614295      0.566645      0.629749              0.656149   \n",
      "9   100       0.614295      0.566645      0.629749              0.664520   \n",
      "\n",
      "   ml_adaBoost_acc  ml_knn_acc  ml_bagging_acc  \n",
      "0         0.635544    0.644559        0.577592  \n",
      "1         0.643915    0.625885        0.591114  \n",
      "2         0.659369    0.618802        0.599485  \n",
      "3         0.654862    0.605280        0.625885  \n",
      "4         0.657437    0.594977        0.645847  \n",
      "5         0.658081    0.639408        0.661945  \n",
      "6         0.666452    0.625241        0.662589  \n",
      "7         0.665164    0.633612        0.667740  \n",
      "8         0.669028    0.631037        0.661301  \n",
      "9         0.662589    0.631037        0.667740  \n"
     ]
    }
   ],
   "source": [
    "# [1, 2, 3, 4, 5, 10, 20, 30, 50, 100]\n",
    "pca_dfs = {\n",
    "    1:  'df_pca_1',\n",
    "    2:  'df_pca_2',\n",
    "    3:  'df_pca_3',\n",
    "    4:  'df_pca_4',\n",
    "    5:  'df_pca_5',\n",
    "    10: 'df_pca_10',\n",
    "    20: 'df_pca_20',\n",
    "    30: 'df_pca_30',\n",
    "    50: 'df_pca_50',\n",
    "    100:'df_pca_100'\n",
    "}\n",
    "\n",
    "results = []\n",
    "\n",
    "df_resp = pd.read_csv(\"./DATA AND R CODE/eachresponse.csv\")\n",
    "df_resp = df_resp.dropna(how='any')\n",
    "\n",
    "for d, df_pca in pca_dfs.items():\n",
    "    df = pd.read_pickle(df_pca)  \n",
    "    df[\"image\"] = df[\"image\"].str.extract(r'\\((\\d+)\\)', expand=False)\n",
    "    df[\"image\"] = df[\"image\"].astype(int)\n",
    "    \n",
    "    df_merged = pd.merge(df_resp, df, on=\"image\", how=\"inner\")\n",
    "    pca_columns = [i for i in range(0, d)]\n",
    "    \n",
    "    confidence = 4\n",
    "    df_merged = df_merged[df_merged[\"confidence\"] >= confidence]\n",
    "    \n",
    "    X = df_merged[pca_columns].values\n",
    "    y = df_merged[\"choice\"].values\n",
    "    \n",
    "    X_train, X_test, y_train, y_test = train_test_split(\n",
    "        X, y, test_size=0.2, random_state=42, stratify=y\n",
    "    )\n",
    "\n",
    "    # Prototype\n",
    "    ai_proto, real_proto = gen_prototypes(X_train, y_train)\n",
    "    proto_preds = prototype_predict(ai_proto, real_proto, X_test)\n",
    "    proto_acc = accuracy_score(y_test, proto_preds)\n",
    "\n",
    "    # Exemplar\n",
    "    exemplars = gen_exemplars(X_train, y_train)\n",
    "    exemplar_preds = exemplar_predict(X_test, exemplars)\n",
    "    exemplar_acc = accuracy_score(y_test, exemplar_preds)\n",
    "\n",
    "    # ML (RidgeClassifier)\n",
    "    clf = RidgeClassifier()\n",
    "    clf.fit(X_train, y_train)\n",
    "    ml_preds = clf.predict(X_test)\n",
    "    ml_ridge_acc = accuracy_score(y_test, ml_preds)\n",
    "\n",
    "    # ML (GradientBoostingClassifier)\n",
    "    clf_gradientBoost = GradientBoostingClassifier(n_estimators=100, learning_rate=1.0,\n",
    "    max_depth=3)\n",
    "    clf_gradientBoost.fit(X_train, y_train)\n",
    "    ml_gradientBoost_preds = clf_gradientBoost.predict(X_test)\n",
    "    ml_gradientBoost_acc = accuracy_score(y_test, ml_gradientBoost_preds)\n",
    "\n",
    "    # ML (AdaBoostClassifier)\n",
    "    clf_adaBoost = AdaBoostClassifier(n_estimators=100)\n",
    "    clf_adaBoost.fit(X_train, y_train)\n",
    "    ml_adaBoost_preds = clf_adaBoost.predict(X_test)\n",
    "    ml_adaBoost_acc = accuracy_score(y_test, ml_adaBoost_preds)\n",
    "    \n",
    "    # ML (KNeighborsClassifier)\n",
    "    knn = KNeighborsClassifier(n_neighbors = 5)\n",
    "    knn.fit(X_train, y_train)\n",
    "    knn_preds = knn.predict(X_test)\n",
    "    knn_acc = accuracy_score(y_test,knn_preds)\n",
    "\n",
    "    # ML (BaggingClassifier)\n",
    "    clf_bagging = BaggingClassifier(estimator = SVC(), n_estimators = 10)\n",
    "    clf_bagging.fit(X_train, y_train)\n",
    "    ml_bagging_preds = clf_bagging.predict(X_test)\n",
    "    ml_bagging_acc = accuracy_score(y_test, ml_bagging_preds)\n",
    "    \n",
    "    results.append({\n",
    "        \"dims\": d,\n",
    "        \"prototype_acc\": proto_acc,\n",
    "        \"exemplar_acc\": exemplar_acc,\n",
    "        \"ml_ridge_acc\": ml_ridge_acc,\n",
    "        \"ml_gradientBoost_acc\": ml_gradientBoost_acc,\n",
    "        \"ml_adaBoost_acc\": ml_adaBoost_acc,\n",
    "        \"ml_knn_acc\": knn_acc,\n",
    "        \"ml_bagging_acc\": ml_bagging_acc,\n",
    "    })\n",
    "\n",
    "results_df = pd.DataFrame(results)\n",
    "print(results_df)"
   ]
  }
 ],
 "metadata": {
  "kernelspec": {
   "display_name": "base",
   "language": "python",
   "name": "python3"
  },
  "language_info": {
   "codemirror_mode": {
    "name": "ipython",
    "version": 3
   },
   "file_extension": ".py",
   "mimetype": "text/x-python",
   "name": "python",
   "nbconvert_exporter": "python",
   "pygments_lexer": "ipython3",
   "version": "3.11.5"
  }
 },
 "nbformat": 4,
 "nbformat_minor": 5
}
